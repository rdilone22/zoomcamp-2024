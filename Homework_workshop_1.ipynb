{
  "nbformat": 4,
  "nbformat_minor": 0,
  "metadata": {
    "colab": {
      "provenance": []
    },
    "kernelspec": {
      "name": "python3",
      "display_name": "Python 3"
    },
    "language_info": {
      "name": "python"
    }
  },
  "cells": [
    {
      "cell_type": "markdown",
      "source": [
        "# **Homework**: Data talks club data engineering zoomcamp Data loading workshop\n",
        "\n",
        "Hello folks, let's practice what we learned - Loading data with the best practices of data engineering.\n",
        "\n",
        "Here are the exercises we will do\n",
        "\n",
        "\n"
      ],
      "metadata": {
        "id": "mrTFv5nPClXh"
      }
    },
    {
      "cell_type": "markdown",
      "source": [
        "# 1. Use a generator\n",
        "\n",
        "Remember the concept of generator? Let's practice using them to futher our understanding of how they work.\n",
        "\n",
        "Let's define a generator and then run it as practice.\n",
        "\n",
        "**Answer the following questions:**\n",
        "\n",
        "- **Question 1: What is the sum of the outputs of the generator for limit = 5?**\n",
        "- **Question 2: What is the 13th number yielded**\n",
        "\n",
        "I suggest practicing these questions without GPT as the purpose is to further your learning."
      ],
      "metadata": {
        "id": "wLF4iXf-NR7t"
      }
    },
    {
      "cell_type": "code",
      "source": [
        "def square_root_generator(limit):\n",
        "    n = 1\n",
        "    while n <= limit:\n",
        "        yield n ** 0.5\n",
        "        n += 1\n",
        "\n",
        "# Example usage:\n",
        "limit = 5\n",
        "generator = square_root_generator(limit)\n",
        "\n",
        "suma = 0\n",
        "\n",
        "for sqrt_value in generator:\n",
        "    suma = suma + sqrt_value\n",
        "\n",
        "\n",
        "print(suma)\n"
      ],
      "metadata": {
        "colab": {
          "base_uri": "https://localhost:8080/"
        },
        "id": "wLng-bDJN4jf",
        "outputId": "10dcc1b8-e625-46c4-aa6c-81c1215d1585"
      },
      "execution_count": 2,
      "outputs": [
        {
          "output_type": "stream",
          "name": "stdout",
          "text": [
            "8.382332347441762\n"
          ]
        }
      ]
    },
    {
      "cell_type": "code",
      "source": [
        "def square_root_generator(limit):\n",
        "    n = 1\n",
        "    while n <= limit:\n",
        "        yield n ** 0.5\n",
        "        n += 1\n",
        "\n",
        "# Example usage:\n",
        "limit = 13\n",
        "generator = square_root_generator(limit)\n",
        "\n",
        "values = list(generator)\n",
        "\n",
        "\n",
        "values[12]"
      ],
      "metadata": {
        "id": "5vM1zhHnqqjx",
        "outputId": "1c4f63ba-0993-4acf-9c30-28d6d5b2fa7d",
        "colab": {
          "base_uri": "https://localhost:8080/"
        }
      },
      "execution_count": 7,
      "outputs": [
        {
          "output_type": "execute_result",
          "data": {
            "text/plain": [
              "3.605551275463989"
            ]
          },
          "metadata": {},
          "execution_count": 7
        }
      ]
    },
    {
      "cell_type": "markdown",
      "source": [],
      "metadata": {
        "id": "xbe3q55zN43j"
      }
    },
    {
      "cell_type": "markdown",
      "source": [
        "# 2. Append a generator to a table with existing data\n",
        "\n",
        "\n",
        "Below you have 2 generators. You will be tasked to load them to duckdb and answer some questions from the data\n",
        "\n",
        "1. Load the first generator and calculate the sum of ages of all people. Make sure to only load it once.\n",
        "2. Append the second generator to the same table as the first.\n",
        "3. **After correctly appending the data, calculate the sum of all ages of people.**\n",
        "\n",
        "\n"
      ],
      "metadata": {
        "id": "vjWhILzGJMpK"
      }
    },
    {
      "cell_type": "code",
      "execution_count": 11,
      "metadata": {
        "colab": {
          "base_uri": "https://localhost:8080/"
        },
        "id": "2MoaQcdLBEk6",
        "outputId": "eb9285ec-e208-4e6b-98b9-420ac70c3128"
      },
      "outputs": [
        {
          "output_type": "stream",
          "name": "stdout",
          "text": [
            "{'ID': 1, 'Name': 'Person_1', 'Age': 26, 'City': 'City_A'}\n",
            "{'ID': 2, 'Name': 'Person_2', 'Age': 27, 'City': 'City_A'}\n",
            "{'ID': 3, 'Name': 'Person_3', 'Age': 28, 'City': 'City_A'}\n",
            "{'ID': 4, 'Name': 'Person_4', 'Age': 29, 'City': 'City_A'}\n",
            "{'ID': 5, 'Name': 'Person_5', 'Age': 30, 'City': 'City_A'}\n",
            "{'ID': 3, 'Name': 'Person_3', 'Age': 33, 'City': 'City_B', 'Occupation': 'Job_3'}\n",
            "{'ID': 4, 'Name': 'Person_4', 'Age': 34, 'City': 'City_B', 'Occupation': 'Job_4'}\n",
            "{'ID': 5, 'Name': 'Person_5', 'Age': 35, 'City': 'City_B', 'Occupation': 'Job_5'}\n",
            "{'ID': 6, 'Name': 'Person_6', 'Age': 36, 'City': 'City_B', 'Occupation': 'Job_6'}\n",
            "{'ID': 7, 'Name': 'Person_7', 'Age': 37, 'City': 'City_B', 'Occupation': 'Job_7'}\n",
            "{'ID': 8, 'Name': 'Person_8', 'Age': 38, 'City': 'City_B', 'Occupation': 'Job_8'}\n"
          ]
        }
      ],
      "source": [
        "def people_1():\n",
        "    for i in range(1, 6):\n",
        "        yield {\"ID\": i, \"Name\": f\"Person_{i}\", \"Age\": 25 + i, \"City\": \"City_A\"}\n",
        "\n",
        "for person in people_1():\n",
        "    print(person)\n",
        "\n",
        "\n",
        "def people_2():\n",
        "    for i in range(3, 9):\n",
        "        yield {\"ID\": i, \"Name\": f\"Person_{i}\", \"Age\": 30 + i, \"City\": \"City_B\", \"Occupation\": f\"Job_{i}\"}\n",
        "\n",
        "\n",
        "for person in people_2():\n",
        "    print(person)\n"
      ]
    },
    {
      "cell_type": "code",
      "source": [
        "import dlt"
      ],
      "metadata": {
        "id": "66qYVqGnsnks"
      },
      "execution_count": 9,
      "outputs": []
    },
    {
      "cell_type": "markdown",
      "source": [],
      "metadata": {
        "id": "vtdTIm4fvQCN"
      }
    },
    {
      "cell_type": "code",
      "source": [
        "pipeline = dlt.pipeline(pipeline_name=\"person_data\",\n",
        "\t\t\t\t\t\tdestination='duckdb',\n",
        "\t\t\t\t\t\tdataset_name='people_data')"
      ],
      "metadata": {
        "id": "e6s-c3Dxs69W"
      },
      "execution_count": 17,
      "outputs": []
    },
    {
      "cell_type": "code",
      "source": [
        "person1 = list(people_1())"
      ],
      "metadata": {
        "id": "ty2miAzftUCx"
      },
      "execution_count": 18,
      "outputs": []
    },
    {
      "cell_type": "code",
      "source": [
        "person1"
      ],
      "metadata": {
        "id": "ZyS_bBNetfwb",
        "outputId": "d9fd3ff2-ad0c-4cc2-d9e7-4957affc5391",
        "colab": {
          "base_uri": "https://localhost:8080/"
        }
      },
      "execution_count": 19,
      "outputs": [
        {
          "output_type": "execute_result",
          "data": {
            "text/plain": [
              "[{'ID': 1, 'Name': 'Person_1', 'Age': 26, 'City': 'City_A'},\n",
              " {'ID': 2, 'Name': 'Person_2', 'Age': 27, 'City': 'City_A'},\n",
              " {'ID': 3, 'Name': 'Person_3', 'Age': 28, 'City': 'City_A'},\n",
              " {'ID': 4, 'Name': 'Person_4', 'Age': 29, 'City': 'City_A'},\n",
              " {'ID': 5, 'Name': 'Person_5', 'Age': 30, 'City': 'City_A'}]"
            ]
          },
          "metadata": {},
          "execution_count": 19
        }
      ]
    },
    {
      "cell_type": "code",
      "source": [
        "# run the pipeline with default settings, and capture the outcome\n",
        "info = pipeline.run(person1,\n",
        "                    table_name=\"people\",\n",
        "                    write_disposition=\"replace\")\n",
        "\n",
        "# show the outcome\n",
        "print(info)"
      ],
      "metadata": {
        "colab": {
          "base_uri": "https://localhost:8080/"
        },
        "id": "07jCakzCscuz",
        "outputId": "73e06fe6-74f5-4b90-e59f-a242816c4807"
      },
      "execution_count": 20,
      "outputs": [
        {
          "output_type": "stream",
          "name": "stdout",
          "text": [
            "Pipeline person_data load step completed in 0.42 seconds\n",
            "1 load package(s) were loaded to destination duckdb and into dataset people_data\n",
            "The duckdb destination used duckdb:////content/person_data.duckdb location to store data\n",
            "Load package 1708301685.1160665 is LOADED and contains no failed jobs\n"
          ]
        }
      ]
    },
    {
      "cell_type": "markdown",
      "source": [],
      "metadata": {
        "id": "OopM5N15vDr8"
      }
    },
    {
      "cell_type": "code",
      "source": [
        "import duckdb\n",
        "\n",
        "conn = duckdb.connect(\"person_data.duckdb\")\n",
        "conn.sql(f\"SET search_path = 'people_data' \")"
      ],
      "metadata": {
        "id": "tMr4sy1LyrS5"
      },
      "execution_count": 25,
      "outputs": []
    },
    {
      "cell_type": "code",
      "source": [
        "display(conn.sql(\"show tables\"))"
      ],
      "metadata": {
        "id": "sIcPBMG1zm8f",
        "outputId": "14b5b38f-6994-4f53-c0ac-97dd2d14a044",
        "colab": {
          "base_uri": "https://localhost:8080/",
          "height": 181
        }
      },
      "execution_count": 26,
      "outputs": [
        {
          "output_type": "display_data",
          "data": {
            "text/plain": [
              "┌─────────────────────┐\n",
              "│        name         │\n",
              "│       varchar       │\n",
              "├─────────────────────┤\n",
              "│ _dlt_loads          │\n",
              "│ _dlt_pipeline_state │\n",
              "│ _dlt_version        │\n",
              "│ people              │\n",
              "└─────────────────────┘"
            ]
          },
          "metadata": {}
        }
      ]
    },
    {
      "cell_type": "code",
      "source": [
        "display(conn.sql(\"SELECT SUM(age) FROM people\"))"
      ],
      "metadata": {
        "id": "Aizp9shzzoaW",
        "outputId": "5ab73c59-2683-42d8-da4f-8cc5b59bdb20",
        "colab": {
          "base_uri": "https://localhost:8080/",
          "height": 126
        }
      },
      "execution_count": 29,
      "outputs": [
        {
          "output_type": "display_data",
          "data": {
            "text/plain": [
              "┌──────────┐\n",
              "│ sum(age) │\n",
              "│  int128  │\n",
              "├──────────┤\n",
              "│      140 │\n",
              "└──────────┘"
            ]
          },
          "metadata": {}
        }
      ]
    },
    {
      "cell_type": "code",
      "source": [
        "person2 = list(people_2())"
      ],
      "metadata": {
        "id": "hkeaffLA0Xog"
      },
      "execution_count": 30,
      "outputs": []
    },
    {
      "cell_type": "code",
      "source": [
        "pipeline.run(person2,\n",
        "            table_name=\"people\",\n",
        "            write_disposition=\"append\")"
      ],
      "metadata": {
        "id": "VgTNWzmT0RTC",
        "outputId": "8b43f325-2c68-4100-f3f4-75c56211d491",
        "colab": {
          "base_uri": "https://localhost:8080/"
        }
      },
      "execution_count": 31,
      "outputs": [
        {
          "output_type": "execute_result",
          "data": {
            "text/plain": [
              "LoadInfo(pipeline=<dlt.pipeline.pipeline.Pipeline object at 0x7d5ce2c3b550>, metrics={'1708303445.46285': [{'started_at': DateTime(2024, 2, 19, 0, 44, 5, 854188, tzinfo=Timezone('UTC')), 'finished_at': DateTime(2024, 2, 19, 0, 44, 6, 106787, tzinfo=Timezone('UTC'))}]}, destination_type='dlt.destinations.duckdb', destination_displayable_credentials='duckdb:////content/person_data.duckdb', destination_name='duckdb', environment=None, staging_type=None, staging_name=None, staging_displayable_credentials=None, destination_fingerprint='', dataset_name='people_data', loads_ids=['1708303445.46285'], load_packages=[LoadPackageInfo(load_id='1708303445.46285', package_path='/var/dlt/pipelines/person_data/load/loaded/1708303445.46285', state='loaded', schema=Schema person_data at 137837782230224, schema_update={'people': {'name': 'people', 'columns': {'occupation': {'name': 'occupation', 'data_type': 'text', 'nullable': True}}, 'write_disposition': 'append', 'resource': 'people', 'table_format': None}}, completed_at=DateTime(2024, 2, 19, 0, 44, 6, 95293, tzinfo=Timezone('UTC')), jobs={'started_jobs': [], 'completed_jobs': [LoadJobInfo(state='completed_jobs', file_path='/var/dlt/pipelines/person_data/load/loaded/1708303445.46285/completed_jobs/people.81b44291d7.0.insert_values', file_size=325, created_at=DateTime(2024, 2, 19, 0, 44, 5, 523240, tzinfo=Timezone('UTC')), elapsed=0.5720529556274414, job_file_info=ParsedLoadJobFileName(table_name='people', file_id='81b44291d7', retry_count=0, file_format='insert_values'), failed_message=None)], 'failed_jobs': [], 'new_jobs': []})], first_run=False)"
            ]
          },
          "metadata": {},
          "execution_count": 31
        }
      ]
    },
    {
      "cell_type": "code",
      "source": [
        "display(conn.sql(\"SELECT SUM(age) FROM people\"))"
      ],
      "metadata": {
        "id": "if-RjRLr0fH5",
        "outputId": "b0bd4781-3e64-44ce-b663-0dc6fe5a6120",
        "colab": {
          "base_uri": "https://localhost:8080/",
          "height": 126
        }
      },
      "execution_count": 32,
      "outputs": [
        {
          "output_type": "display_data",
          "data": {
            "text/plain": [
              "┌──────────┐\n",
              "│ sum(age) │\n",
              "│  int128  │\n",
              "├──────────┤\n",
              "│      353 │\n",
              "└──────────┘"
            ]
          },
          "metadata": {}
        }
      ]
    },
    {
      "cell_type": "markdown",
      "source": [
        "# 3. Merge a generator\n",
        "\n",
        "Re-use the generators from Exercise 2.\n",
        "\n",
        "A table's primary key needs to be created from the start, so load your data to a new table with primary key ID.\n",
        "\n",
        "Load your first generator first, and then load the second one with merge. Since they have overlapping IDs, some of the records from the first load should be replaced by the ones from the second load.\n",
        "\n",
        "After loading, you should have a total of 8 records, and ID 3 should have age 33.\n",
        "\n",
        "Question: **Calculate the sum of ages of all the people loaded as described above.**\n"
      ],
      "metadata": {
        "id": "pY4cFAWOSwN1"
      }
    },
    {
      "cell_type": "code",
      "source": [],
      "metadata": {
        "id": "OpM65q0z1oq7",
        "outputId": "3a85a963-599d-466b-96b1-bb53a90f6618",
        "colab": {
          "base_uri": "https://localhost:8080/"
        }
      },
      "execution_count": 39,
      "outputs": [
        {
          "output_type": "execute_result",
          "data": {
            "text/plain": [
              "<generator object people_1 at 0x7d5cdc0d37d0>"
            ]
          },
          "metadata": {},
          "execution_count": 39
        }
      ]
    },
    {
      "cell_type": "code",
      "source": [
        "people_2()"
      ],
      "metadata": {
        "id": "4_s2OgKq2Yid"
      },
      "execution_count": 38,
      "outputs": []
    },
    {
      "cell_type": "code",
      "source": [
        "pipeline = dlt.pipeline(pipeline_name=\"person_data2\",\n",
        "\t\t\t\t\t\tdestination='duckdb',\n",
        "\t\t\t\t\t\tdataset_name='people_data2')"
      ],
      "metadata": {
        "id": "7tHfeHhX1C8u"
      },
      "execution_count": 33,
      "outputs": []
    },
    {
      "cell_type": "code",
      "source": [
        "pipeline.run(people_1(),\n",
        "\t\t\t\t\t\t\t\t\t\ttable_name=\"people2\",\n",
        "\t\t\t\t\t\t\t\t\t\twrite_disposition=\"merge\",\n",
        "                    primary_key=\"ID\")"
      ],
      "metadata": {
        "id": "ii8eCHhQ1I14",
        "outputId": "4b21ee73-e5ab-4475-fd8c-bd53c222f374",
        "colab": {
          "base_uri": "https://localhost:8080/"
        }
      },
      "execution_count": 40,
      "outputs": [
        {
          "output_type": "execute_result",
          "data": {
            "text/plain": [
              "LoadInfo(pipeline=<dlt.pipeline.pipeline.Pipeline object at 0x7d5cdc0aaf50>, metrics={'1708304099.9660492': [{'started_at': DateTime(2024, 2, 19, 0, 55, 0, 385703, tzinfo=Timezone('UTC')), 'finished_at': DateTime(2024, 2, 19, 0, 55, 1, 111714, tzinfo=Timezone('UTC'))}]}, destination_type='dlt.destinations.duckdb', destination_displayable_credentials='duckdb:////content/person_data2.duckdb', destination_name='duckdb', environment=None, staging_type=None, staging_name=None, staging_displayable_credentials=None, destination_fingerprint='', dataset_name='people_data2', loads_ids=['1708304099.9660492'], load_packages=[LoadPackageInfo(load_id='1708304099.9660492', package_path='/var/dlt/pipelines/person_data2/load/loaded/1708304099.9660492', state='loaded', schema=Schema person_data2 at 137837782223984, schema_update={'_dlt_loads': {'name': '_dlt_loads', 'columns': {'load_id': {'name': 'load_id', 'data_type': 'text', 'nullable': False}, 'schema_name': {'name': 'schema_name', 'data_type': 'text', 'nullable': True}, 'status': {'name': 'status', 'data_type': 'bigint', 'nullable': False}, 'inserted_at': {'name': 'inserted_at', 'data_type': 'timestamp', 'nullable': False}, 'schema_version_hash': {'name': 'schema_version_hash', 'data_type': 'text', 'nullable': True}}, 'write_disposition': 'skip', 'resource': '_dlt_loads', 'description': 'Created by DLT. Tracks completed loads', 'table_format': None}, 'people2': {'name': 'people2', 'columns': {'id': {'name': 'id', 'nullable': False, 'primary_key': True, 'data_type': 'bigint'}, 'name': {'name': 'name', 'data_type': 'text', 'nullable': True}, 'age': {'name': 'age', 'data_type': 'bigint', 'nullable': True}, 'city': {'name': 'city', 'data_type': 'text', 'nullable': True}, '_dlt_load_id': {'name': '_dlt_load_id', 'data_type': 'text', 'nullable': False}, '_dlt_id': {'name': '_dlt_id', 'data_type': 'text', 'nullable': False, 'unique': True}}, 'write_disposition': 'merge', 'resource': 'people2', 'table_format': None}, '_dlt_version': {'name': '_dlt_version', 'columns': {'version': {'name': 'version', 'data_type': 'bigint', 'nullable': False}, 'engine_version': {'name': 'engine_version', 'data_type': 'bigint', 'nullable': False}, 'inserted_at': {'name': 'inserted_at', 'data_type': 'timestamp', 'nullable': False}, 'schema_name': {'name': 'schema_name', 'data_type': 'text', 'nullable': False}, 'version_hash': {'name': 'version_hash', 'data_type': 'text', 'nullable': False}, 'schema': {'name': 'schema', 'data_type': 'text', 'nullable': False}}, 'write_disposition': 'skip', 'resource': '_dlt_version', 'description': 'Created by DLT. Tracks schema updates', 'table_format': None}, '_dlt_pipeline_state': {'columns': {'version': {'name': 'version', 'data_type': 'bigint', 'nullable': False}, 'engine_version': {'name': 'engine_version', 'data_type': 'bigint', 'nullable': False}, 'pipeline_name': {'name': 'pipeline_name', 'data_type': 'text', 'nullable': False}, 'state': {'name': 'state', 'data_type': 'text', 'nullable': False}, 'created_at': {'name': 'created_at', 'data_type': 'timestamp', 'nullable': False}, 'version_hash': {'name': 'version_hash', 'data_type': 'text', 'nullable': True}, '_dlt_load_id': {'name': '_dlt_load_id', 'data_type': 'text', 'nullable': False}, '_dlt_id': {'name': '_dlt_id', 'data_type': 'text', 'nullable': False, 'unique': True}}, 'write_disposition': 'append', 'name': '_dlt_pipeline_state', 'resource': '_dlt_pipeline_state', 'table_format': None}}, completed_at=DateTime(2024, 2, 19, 0, 55, 1, 99372, tzinfo=Timezone('UTC')), jobs={'started_jobs': [], 'completed_jobs': [LoadJobInfo(state='completed_jobs', file_path='/var/dlt/pipelines/person_data2/load/loaded/1708304099.9660492/completed_jobs/_dlt_pipeline_state.cd8e4e0804.0.insert_values', file_size=507, created_at=DateTime(2024, 2, 19, 0, 55, 0, 46276, tzinfo=Timezone('UTC')), elapsed=1.0530962944030762, job_file_info=ParsedLoadJobFileName(table_name='_dlt_pipeline_state', file_id='cd8e4e0804', retry_count=0, file_format='insert_values'), failed_message=None), LoadJobInfo(state='completed_jobs', file_path='/var/dlt/pipelines/person_data2/load/loaded/1708304099.9660492/completed_jobs/people2.627233bd33.0.insert_values', file_size=284, created_at=DateTime(2024, 2, 19, 0, 55, 0, 46276, tzinfo=Timezone('UTC')), elapsed=1.0530962944030762, job_file_info=ParsedLoadJobFileName(table_name='people2', file_id='627233bd33', retry_count=0, file_format='insert_values'), failed_message=None), LoadJobInfo(state='completed_jobs', file_path='/var/dlt/pipelines/person_data2/load/loaded/1708304099.9660492/completed_jobs/people2.4ecd8aad91.0.sql', file_size=647, created_at=DateTime(2024, 2, 19, 0, 55, 0, 737339, tzinfo=Timezone('UTC')), elapsed=0.3620328903198242, job_file_info=ParsedLoadJobFileName(table_name='people2', file_id='4ecd8aad91', retry_count=0, file_format='sql'), failed_message=None)], 'failed_jobs': [], 'new_jobs': []})], first_run=True)"
            ]
          },
          "metadata": {},
          "execution_count": 40
        }
      ]
    },
    {
      "cell_type": "code",
      "source": [
        "pipeline.run(people_2(),\n",
        "\t\t\t\t\t\t\t\t\t\ttable_name=\"people2\",\n",
        "\t\t\t\t\t\t\t\t\t\twrite_disposition=\"merge\",\n",
        "                    primary_key=\"ID\")"
      ],
      "metadata": {
        "id": "kVzt9h512_NK",
        "outputId": "1c370c96-d03d-414f-84a0-b6ba61f42668",
        "colab": {
          "base_uri": "https://localhost:8080/"
        }
      },
      "execution_count": 41,
      "outputs": [
        {
          "output_type": "execute_result",
          "data": {
            "text/plain": [
              "LoadInfo(pipeline=<dlt.pipeline.pipeline.Pipeline object at 0x7d5cdc0aaf50>, metrics={'1708304116.813182': [{'started_at': DateTime(2024, 2, 19, 0, 55, 17, 201580, tzinfo=Timezone('UTC')), 'finished_at': DateTime(2024, 2, 19, 0, 55, 17, 832412, tzinfo=Timezone('UTC'))}]}, destination_type='dlt.destinations.duckdb', destination_displayable_credentials='duckdb:////content/person_data2.duckdb', destination_name='duckdb', environment=None, staging_type=None, staging_name=None, staging_displayable_credentials=None, destination_fingerprint='', dataset_name='people_data2', loads_ids=['1708304116.813182'], load_packages=[LoadPackageInfo(load_id='1708304116.813182', package_path='/var/dlt/pipelines/person_data2/load/loaded/1708304116.813182', state='loaded', schema=Schema person_data2 at 137837795471568, schema_update={'people2': {'name': 'people2', 'columns': {'occupation': {'name': 'occupation', 'data_type': 'text', 'nullable': True}}, 'write_disposition': 'merge', 'resource': 'people2', 'table_format': None}}, completed_at=DateTime(2024, 2, 19, 0, 55, 17, 820906, tzinfo=Timezone('UTC')), jobs={'started_jobs': [], 'completed_jobs': [LoadJobInfo(state='completed_jobs', file_path='/var/dlt/pipelines/person_data2/load/loaded/1708304116.813182/completed_jobs/people2.31417107ca.0.insert_values', file_size=326, created_at=DateTime(2024, 2, 19, 0, 55, 16, 859818, tzinfo=Timezone('UTC')), elapsed=0.9610879421234131, job_file_info=ParsedLoadJobFileName(table_name='people2', file_id='31417107ca', retry_count=0, file_format='insert_values'), failed_message=None), LoadJobInfo(state='completed_jobs', file_path='/var/dlt/pipelines/person_data2/load/loaded/1708304116.813182/completed_jobs/people2.920b3ba099.0.sql', file_size=689, created_at=DateTime(2024, 2, 19, 0, 55, 17, 446872, tzinfo=Timezone('UTC')), elapsed=0.37403392791748047, job_file_info=ParsedLoadJobFileName(table_name='people2', file_id='920b3ba099', retry_count=0, file_format='sql'), failed_message=None)], 'failed_jobs': [], 'new_jobs': []})], first_run=False)"
            ]
          },
          "metadata": {},
          "execution_count": 41
        }
      ]
    },
    {
      "cell_type": "code",
      "source": [
        "conn = duckdb.connect(\"person_data2.duckdb\")\n",
        "conn.sql(f\"SET search_path = 'people_data2' \")"
      ],
      "metadata": {
        "id": "JCLF_K1J3LTL"
      },
      "execution_count": 42,
      "outputs": []
    },
    {
      "cell_type": "code",
      "source": [
        "display(conn.sql(\"SELECT * FROM people2\"))"
      ],
      "metadata": {
        "id": "q30mI6Ks3Ro_",
        "outputId": "bfa4ce2a-1c0b-4011-fdad-92348ad28736",
        "colab": {
          "base_uri": "https://localhost:8080/",
          "height": 254
        }
      },
      "execution_count": 43,
      "outputs": [
        {
          "output_type": "display_data",
          "data": {
            "text/plain": [
              "┌───────┬──────────┬───────┬─────────┬────────────────────┬────────────────┬────────────┐\n",
              "│  id   │   name   │  age  │  city   │    _dlt_load_id    │    _dlt_id     │ occupation │\n",
              "│ int64 │ varchar  │ int64 │ varchar │      varchar       │    varchar     │  varchar   │\n",
              "├───────┼──────────┼───────┼─────────┼────────────────────┼────────────────┼────────────┤\n",
              "│     1 │ Person_1 │    26 │ City_A  │ 1708304099.9660492 │ QICBV1N/oY1lyQ │ NULL       │\n",
              "│     2 │ Person_2 │    27 │ City_A  │ 1708304099.9660492 │ gwm7Iy4MndK7vw │ NULL       │\n",
              "│     5 │ Person_5 │    35 │ City_B  │ 1708304116.813182  │ eEKIQEPZmXmEhg │ Job_5      │\n",
              "│     8 │ Person_8 │    38 │ City_B  │ 1708304116.813182  │ 305+ajZCX5eI9g │ Job_8      │\n",
              "│     7 │ Person_7 │    37 │ City_B  │ 1708304116.813182  │ PuG7RBZtzJ1RZA │ Job_7      │\n",
              "│     4 │ Person_4 │    34 │ City_B  │ 1708304116.813182  │ mqFVKiGYhHaCmg │ Job_4      │\n",
              "│     3 │ Person_3 │    33 │ City_B  │ 1708304116.813182  │ uzgd/Qlh47A5Zw │ Job_3      │\n",
              "│     6 │ Person_6 │    36 │ City_B  │ 1708304116.813182  │ a2KvR+erkmZ4BQ │ Job_6      │\n",
              "└───────┴──────────┴───────┴─────────┴────────────────────┴────────────────┴────────────┘"
            ]
          },
          "metadata": {}
        }
      ]
    },
    {
      "cell_type": "code",
      "source": [
        "display(conn.sql(\"SELECT sum(age) FROM people2\"))"
      ],
      "metadata": {
        "id": "Ux3S1x_L3hGB",
        "outputId": "612d1f39-2389-4f4a-ed09-8ae0992efeb9",
        "colab": {
          "base_uri": "https://localhost:8080/",
          "height": 126
        }
      },
      "execution_count": 44,
      "outputs": [
        {
          "output_type": "display_data",
          "data": {
            "text/plain": [
              "┌──────────┐\n",
              "│ sum(age) │\n",
              "│  int128  │\n",
              "├──────────┤\n",
              "│      266 │\n",
              "└──────────┘"
            ]
          },
          "metadata": {}
        }
      ]
    },
    {
      "cell_type": "markdown",
      "source": [
        "# Solution: First make sure that the following modules are installed:"
      ],
      "metadata": {
        "id": "kKB2GTB9oVjr"
      }
    },
    {
      "cell_type": "code",
      "source": [
        "#Install the dependencies\n",
        "%%capture\n",
        "!pip install dlt[duckdb]"
      ],
      "metadata": {
        "id": "xTVvtyqrfVNq"
      },
      "execution_count": 8,
      "outputs": []
    },
    {
      "cell_type": "code",
      "source": [
        "# to do: homework :)"
      ],
      "metadata": {
        "id": "a2-PRBAkGC2K"
      },
      "execution_count": null,
      "outputs": []
    },
    {
      "cell_type": "markdown",
      "source": [
        "Questions? difficulties? We are here to help.\n",
        "- DTC data engineering course channel: https://datatalks-club.slack.com/archives/C01FABYF2RG\n",
        "- dlt's DTC cohort channel: https://dlthub-community.slack.com/archives/C06GAEX2VNX"
      ],
      "metadata": {
        "id": "PoTJu4kbGG0z"
      }
    }
  ]
}